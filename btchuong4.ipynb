{
 "cells": [
  {
   "cell_type": "markdown",
   "metadata": {},
   "source": [
    "b4.1"
   ]
  },
  {
   "cell_type": "code",
   "execution_count": null,
   "metadata": {},
   "outputs": [],
   "source": [
    "import numpy as np\n",
    "import pandas as pd\n",
    "\n",
    "mylist = list('abcdefghijklmnopqrstuvwxyz')\n",
    "myarr = np.arange(26)\n",
    "mydict = dict(zip(mylist, myarr))\n",
    "\n",
    "# Chuyển đổi sang pandas Series\n",
    "ser_list = pd.Series(mylist)\n",
    "ser_arr = pd.Series(myarr)\n",
    "ser_dict = pd.Series(mydict)\n",
    "print(ser_list)\n",
    "print(ser_arr)\n",
    "print(ser_dict)\n"
   ]
  },
  {
   "cell_type": "markdown",
   "metadata": {},
   "source": [
    "b4.2"
   ]
  },
  {
   "cell_type": "code",
   "execution_count": null,
   "metadata": {},
   "outputs": [],
   "source": [
    "ser = pd.Series(mydict)\n",
    "df = ser.reset_index()\n",
    "df.columns = ['Index', 'Value']\n",
    "print(df)\n"
   ]
  },
  {
   "cell_type": "markdown",
   "metadata": {},
   "source": [
    "b4.3"
   ]
  },
  {
   "cell_type": "code",
   "execution_count": null,
   "metadata": {},
   "outputs": [],
   "source": [
    "ser1 = pd.Series(list('abcdefghijklmnopqrstuvwxyz'))\n",
    "ser2 = pd.Series(np.arange(26))\n",
    "\n",
    "df = pd.DataFrame({'Column1': ser1, 'Column2': ser2})\n",
    "print(df)\n"
   ]
  },
  {
   "cell_type": "markdown",
   "metadata": {},
   "source": [
    "b4.4"
   ]
  },
  {
   "cell_type": "code",
   "execution_count": null,
   "metadata": {},
   "outputs": [],
   "source": [
    "ser1 = pd.Series([1, 2, 3, 4, 5])\n",
    "ser2 = pd.Series([4, 5, 6, 7, 8])\n",
    "\n",
    "# 1. Xóa các mục có mặt trong ser2\n",
    "ser1_filtered = ser1[~ser1.isin(ser2)]\n",
    "\n",
    "# 2. Lấy các mục không chung\n",
    "ser_union = pd.concat([ser1, ser2]).drop_duplicates(keep=False)\n",
    "\n",
    "print(ser1_filtered)\n",
    "print(ser_union)\n"
   ]
  },
  {
   "cell_type": "markdown",
   "metadata": {},
   "source": [
    "b4.5\n"
   ]
  },
  {
   "cell_type": "code",
   "execution_count": null,
   "metadata": {},
   "outputs": [],
   "source": [
    "ser = pd.Series(np.random.normal(10, 5, 25))\n",
    "\n",
    "min_val = ser.min()\n",
    "percentile_25 = ser.quantile(0.25)\n",
    "median_val = ser.median()\n",
    "percentile_75 = ser.quantile(0.75)\n",
    "max_val = ser.max()\n",
    "\n",
    "print(min_val, percentile_25, median_val, percentile_75, max_val)\n"
   ]
  },
  {
   "cell_type": "markdown",
   "metadata": {},
   "source": [
    "tương tự mỗi một dòng là một bt"
   ]
  },
  {
   "cell_type": "code",
   "execution_count": null,
   "metadata": {},
   "outputs": [],
   "source": [
    "ser = pd.Series(np.take(list('abcdefgh'), np.random.randint(8, size=30)))\n",
    "\n",
    "# Giải thích đoạn code: np.random.randint(8, size=30) sinh ra 30 chỉ mục ngẫu nhiên từ 0 đến 7 và lấy giá trị trong danh sách 'abcdefgh'.\n",
    "value_counts = ser.value_counts()\n",
    "print(value_counts)\n"
   ]
  },
  {
   "cell_type": "code",
   "execution_count": null,
   "metadata": {},
   "outputs": [],
   "source": [
    "ser = pd.Series(np.random.randint(1, 5, 12))\n",
    "\n",
    "top_2 = ser.value_counts().nlargest(2).index\n",
    "ser = ser.where(ser.isin(top_2), 'Other')\n",
    "print(ser)\n"
   ]
  },
  {
   "cell_type": "code",
   "execution_count": null,
   "metadata": {},
   "outputs": [],
   "source": [
    "ser = pd.Series(np.random.random(20))\n",
    "\n",
    "# Chia thành 10 phân vị\n",
    "deciles = pd.qcut(ser, 10, labels=False)\n",
    "ser = deciles.astype(str)\n",
    "print(ser)\n"
   ]
  },
  {
   "cell_type": "code",
   "execution_count": null,
   "metadata": {},
   "outputs": [],
   "source": [
    "ser = pd.Series(np.random.randint(1, 10, 35))\n",
    "\n",
    "# Giải thích: np.random.randint(1, 10, 35) tạo ra 35 giá trị ngẫu nhiên từ 1 đến 9.\n",
    "df = ser.values.reshape(7, 5)\n",
    "print(df)\n"
   ]
  },
  {
   "cell_type": "code",
   "execution_count": null,
   "metadata": {},
   "outputs": [],
   "source": [
    "ser = pd.Series(np.random.randint(1, 10, 7))\n",
    "\n",
    "# Tìm các phần tử là bội của 3\n",
    "multiples_of_3 = ser[ser % 3 == 0].index\n",
    "print(multiples_of_3)\n"
   ]
  },
  {
   "cell_type": "code",
   "execution_count": null,
   "metadata": {},
   "outputs": [],
   "source": [
    "ser = pd.Series(list('abcdefghijklmnopqrstuvwxyz'))\n",
    "pos = [0, 4, 8, 14, 20]\n",
    "\n",
    "extracted_values = ser.iloc[pos]\n",
    "print(extracted_values)\n"
   ]
  },
  {
   "cell_type": "code",
   "execution_count": null,
   "metadata": {},
   "outputs": [],
   "source": [
    "ser1 = pd.Series(range(5))\n",
    "ser2 = pd.Series(list('abcde'))\n",
    "\n",
    "# Xếp chồng theo chiều dọc (axis=0)\n",
    "vertical_stack = pd.concat([ser1, ser2], axis=0)\n",
    "\n",
    "# Xếp chồng theo chiều ngang (axis=1)\n",
    "horizontal_stack = pd.concat([ser1, ser2], axis=1)\n",
    "\n",
    "# Hiển thị kết quả\n",
    "print(\"Xếp chồng theo chiều dọc:\")\n",
    "print(vertical_stack)\n",
    "\n",
    "print(\"\\nXếp chồng theo chiều ngang:\")\n",
    "print(horizontal_stack)"
   ]
  },
  {
   "cell_type": "code",
   "execution_count": null,
   "metadata": {},
   "outputs": [],
   "source": [
    "ser1 = pd.Series([10, 9, 6, 5, 3, 1, 12, 8, 13])\n",
    "ser2 = pd.Series([1, 3, 10, 13])\n",
    "\n",
    "# Xếp chồng hai series theo chiều dọc và ngang\n",
    "vertical_stack = pd.concat([ser1, ser2], axis=0)\n",
    "horizontal_stack = pd.concat([ser1, ser2], axis=1)\n",
    "\n",
    "# Lấy vị trí của các mục của ser2 trong ser1\n",
    "positions = ser1[ser1.isin(ser2)].index\n",
    "print(vertical_stack)\n",
    "print(horizontal_stack)\n",
    "print(positions)\n"
   ]
  },
  {
   "cell_type": "code",
   "execution_count": null,
   "metadata": {},
   "outputs": [],
   "source": [
    "truth = pd.Series(range(10))\n",
    "pred = pd.Series(range(10)) + np.random.random(10)\n",
    "\n",
    "mse = ((truth - pred) ** 2).mean()\n",
    "print(mse)\n"
   ]
  },
  {
   "cell_type": "code",
   "execution_count": null,
   "metadata": {},
   "outputs": [],
   "source": [
    "ser = pd.Series([\"how\", \"to\", \"kick\", \"ass?\"])\n",
    "\n",
    "ser = ser.str.capitalize()\n",
    "print(ser)\n"
   ]
  },
  {
   "cell_type": "code",
   "execution_count": null,
   "metadata": {},
   "outputs": [],
   "source": [
    "ser = pd.Series([1, 3, 6, 10, 15, 21, 27, 35])\n",
    "\n",
    "diff = ser.diff().dropna()  # Tính hiệu số giữa các phần tử liên tiếp\n",
    "print(diff)\n"
   ]
  },
  {
   "cell_type": "code",
   "execution_count": null,
   "metadata": {},
   "outputs": [],
   "source": [
    "ser = pd.Series(['01 Jan 2010', '02-02-2011', '20120303', '2013/04/04', '2014-05-05', '2015-06-06T12:20'])\n",
    "\n",
    "ser = pd.to_datetime(ser)\n",
    "print(ser)\n"
   ]
  },
  {
   "cell_type": "code",
   "execution_count": null,
   "metadata": {},
   "outputs": [],
   "source": [
    "emails = pd.Series(['buying books at amazom.com', 'rameses@egypt.com', 'matt@t.co', 'narendra@modi.com'])\n",
    "pattern = '[A-Za-z0-9._%+-]+@[A-Za-z0-9.-]+\\\\.[A-Za-z]{2,}'\n",
    "\n",
    "valid_emails = emails[emails.str.match(pattern)]\n",
    "print(valid_emails)\n"
   ]
  },
  {
   "cell_type": "code",
   "execution_count": null,
   "metadata": {},
   "outputs": [],
   "source": [
    "fruit = pd.Series(np.random.choice(['apple', 'banana', 'carrot'], 10))\n",
    "weights = pd.Series(np.linspace(1, 10, 10))\n",
    "\n",
    "df = pd.DataFrame({'Fruit': fruit, 'Weight': weights})\n",
    "\n",
    "avg_weights = df.groupby('Fruit')['Weight'].mean()\n",
    "print(avg_weights)\n"
   ]
  },
  {
   "cell_type": "code",
   "execution_count": null,
   "metadata": {},
   "outputs": [],
   "source": [
    "import pandas as pd\n",
    "\n",
    "# Đọc file CSV\n",
    "euro12 = pd.read_csv('euro12.csv')\n",
    "\n",
    "# 1. In giá trị cột 'Goals'\n",
    "print(euro12['Goals'])\n",
    "\n",
    "# 2. Có bao nhiêu đội tham gia Euro 2012?\n",
    "num_teams = euro12['Team'].nunique()\n",
    "print(f\"Số đội tham gia Euro 2012: {num_teams}\")\n",
    "\n",
    "# 3. In thông tin của Euro 2012\n",
    "print(euro12.info())\n",
    "\n",
    "# 4. Tạo DataFrame mới 'discipline' chứa 3 cột 'Team', 'Yellow Cards', 'Red Cards'\n",
    "discipline = euro12[['Team', 'Yellow Cards', 'Red Cards']]\n",
    "\n",
    "# 5. Sắp xếp 'discipline' giảm dần theo 'Red Cards' và 'Yellow Cards'\n",
    "discipline_sorted = discipline.sort_values(by=['Red Cards', 'Yellow Cards'], ascending=False)\n",
    "print(discipline_sorted)\n",
    "\n",
    "# 6. Tính trung bình 'Yellow Cards' và lọc các đội đã ghi hơn 6 bàn thắng\n",
    "avg_yellow_cards = euro12['Yellow Cards'].mean()\n",
    "print(f\"Trung bình Yellow Cards: {avg_yellow_cards}\")\n",
    "\n",
    "teams_more_than_6_goals = euro12[euro12['Goals'] > 6]\n",
    "print(teams_more_than_6_goals)\n",
    "\n",
    "# 7. In các đội có tên bắt đầu bằng 'G'\n",
    "teams_starting_with_G = euro12[euro12['Team'].str.startswith('G')]\n",
    "print(teams_starting_with_G)\n",
    "\n",
    "# 8. In 7 cột đầu của 'euro12'\n",
    "print(euro12.iloc[:, :7])\n",
    "\n",
    "# 9. In tất cả các cột trừ 3 cột cuối\n",
    "print(euro12.iloc[:, :-3])\n",
    "\n",
    "# 10. In các cột 'Team', 'Goals', 'Shooting Accuracy', 'Yellow Cards', 'Red Cards'\n",
    "columns_selected = euro12[['Team', 'Goals', 'Shooting Accuracy', 'Yellow Cards', 'Red Cards']]\n",
    "print(columns_selected)\n",
    "\n",
    "# 11. In các cột chỉ hiển thị 'Team','Shooting Accuracy' từ 'England', 'Italy', 'Russia'\n",
    "filtered_teams = euro12[euro12['Team'].isin(['England', 'Italy', 'Russia'])]\n",
    "print(filtered_teams[['Team', 'Shooting Accuracy']])\n"
   ]
  },
  {
   "cell_type": "code",
   "execution_count": null,
   "metadata": {},
   "outputs": [],
   "source": [
    "# 1. Đọc dữ liệu từ file 'drinks.csv'\n",
    "drinks = pd.read_csv('drinks.csv', index_col=0)\n",
    "\n",
    "# Xem thông tin dữ liệu\n",
    "print(f\"Kiểu dữ liệu: {type(drinks)}\")\n",
    "print(f\"Kích thước dữ liệu: {drinks.shape}\")\n",
    "print(f\"Tên các cột: {drinks.columns}\")\n",
    "print(\"5 dòng đầu:\")\n",
    "print(drinks.head())\n",
    "print(\"5 dòng cuối:\")\n",
    "print(drinks.tail())\n",
    "\n",
    "# 2. Tính lượng bia tiêu thụ trung bình mỗi châu lục\n",
    "avg_beer = drinks.groupby('continent')['beer_servings'].mean()\n",
    "print(avg_beer)\n",
    "\n",
    "# 3. Thông tin thống kê tổng quát về tiêu thụ rượu vang\n",
    "wine_stats = drinks.groupby('continent')['wine_servings'].describe()\n",
    "print(wine_stats)\n",
    "\n",
    "# 4. Số lượng bia và rượu tiêu thụ trung bình\n",
    "avg_drinks = drinks.groupby('continent')[['beer_servings', 'wine_servings']].mean()\n",
    "print(avg_drinks)\n",
    "\n",
    "# 5. Tính giá trị trung vị của bia và rượu tiêu thụ\n",
    "median_drinks = drinks.groupby('continent')[['beer_servings', 'wine_servings']].median()\n",
    "print(median_drinks)\n",
    "\n",
    "# 6. Số lượng rượu mạnh tiêu thụ trung bình, lớn nhất, nhỏ nhất\n",
    "spirit_stats = drinks.groupby('continent')['spirit_servings'].agg(['mean', 'max', 'min'])\n",
    "print(spirit_stats)\n",
    "\n",
    "# 7. Sắp xếp dữ liệu theo số lượng bia tiêu thụ\n",
    "sorted_beer = drinks.sort_values(by='beer_servings')\n",
    "print(\"5 quốc gia tiêu thụ bia nhiều nhất:\")\n",
    "print(sorted_beer.tail(5))\n",
    "print(\"5 quốc gia tiêu thụ bia ít nhất:\")\n",
    "print(sorted_beer.head(5))\n"
   ]
  },
  {
   "cell_type": "code",
   "execution_count": null,
   "metadata": {},
   "outputs": [],
   "source": [
    "# Đọc file stocks1.csv\n",
    "stocks1 = pd.read_csv('stocks1.csv')\n",
    "print(stocks1.head())\n",
    "print(stocks1.tail())\n",
    "print(stocks1.dtypes)\n",
    "print(stocks1.info())\n",
    "\n",
    "# Đọc file stocks2.csv\n",
    "stocks2 = pd.read_csv('stocks2.csv')\n",
    "print(stocks2.head())\n",
    "print(stocks2.tail())\n",
    "print(stocks2.dtypes)\n",
    "print(stocks2.info())\n",
    "\n",
    "# Đọc file companies.csv\n",
    "companies = pd.read_csv('companies.csv')\n",
    "print(companies.head())\n",
    "print(companies.dtypes)\n",
    "print(companies.info())\n",
    "\n",
    "# 2. Kiểm tra dữ liệu Null trong stocks1 và thay thế giá trị\n",
    "stocks1['high'] = stocks1['high'].fillna(stocks1.groupby('symbol')['high'].transform('max'))\n",
    "stocks1['low'] = stocks1['low'].fillna(stocks1.groupby('symbol')['low'].transform('min'))\n",
    "\n",
    "# 3. Gộp stocks1 và stocks2 theo dòng\n",
    "stocks = pd.concat([stocks1, stocks2], ignore_index=True)\n",
    "print(stocks.tail(15))\n",
    "\n",
    "# 4. Gộp stocks và companies\n",
    "stocks_companies = pd.merge(stocks, companies, left_on='symbol', right_on='name')\n",
    "print(stocks_companies.head())\n",
    "\n",
    "# 5. Tính trung bình giá mở cửa, đóng cửa, cao nhất, thấp nhất và volume\n",
    "avg_prices = stocks_companies.groupby('name')[['open', 'high', 'low', 'close', 'volume']].mean()\n",
    "print(avg_prices)\n",
    "\n",
    "# 6. Tính giá đóng cửa trung bình, lớn nhất và nhỏ nhất\n",
    "price_stats = stocks_companies.groupby('name')['close'].agg(['mean', 'max', 'min'])\n",
    "print(price_stats)\n",
    "\n",
    "# 7. Thêm cột parsed time\n",
    "stocks_companies['parsed_time'] = pd.to_datetime(stocks_companies['date'])\n",
    "print(stocks_companies['parsed_time'].dtype)\n",
    "print(stocks_companies.head())\n",
    "\n",
    "# 8. Thêm cột 'result' theo điều kiện 'close' > 'open'\n",
    "stocks_companies['result'] = stocks_companies.apply(lambda row: 'up' if row['close'] > row['open'] else 'down', axis=1)\n",
    "print(stocks_companies.head())\n"
   ]
  },
  {
   "cell_type": "code",
   "execution_count": 1,
   "metadata": {},
   "outputs": [
    {
     "ename": "NameError",
     "evalue": "name 'pd' is not defined",
     "output_type": "error",
     "traceback": [
      "\u001b[0;31m---------------------------------------------------------------------------\u001b[0m",
      "\u001b[0;31mNameError\u001b[0m                                 Traceback (most recent call last)",
      "Cell \u001b[0;32mIn[1], line 2\u001b[0m\n\u001b[1;32m      1\u001b[0m \u001b[38;5;66;03m# Đọc dữ liệu movies từ MovieLens\u001b[39;00m\n\u001b[0;32m----> 2\u001b[0m movies \u001b[38;5;241m=\u001b[39m pd\u001b[38;5;241m.\u001b[39mread_csv(\u001b[38;5;124m'\u001b[39m\u001b[38;5;124mmovies.csv\u001b[39m\u001b[38;5;124m'\u001b[39m)\n\u001b[1;32m      3\u001b[0m \u001b[38;5;28mprint\u001b[39m(movies\u001b[38;5;241m.\u001b[39mhead())\n\u001b[1;32m      5\u001b[0m \u001b[38;5;66;03m# 1. Xử lý dữ liệu bị thiếu\u001b[39;00m\n",
      "\u001b[0;31mNameError\u001b[0m: name 'pd' is not defined"
     ]
    }
   ],
   "source": [
    "# Đọc dữ liệu movies từ MovieLens\n",
    "movies = pd.read_csv('movies.csv')\n",
    "print(movies.head())\n",
    "\n",
    "# 1. Xử lý dữ liệu bị thiếu\n",
    "print(movies.isnull().sum())\n",
    "\n",
    "# 2. Gộp dữ liệu giữa movies và ratings\n",
    "ratings = pd.read_csv('ratings.csv')\n",
    "movies_ratings = pd.merge(movies, ratings, on='movieId')\n",
    "\n",
    "# 3. Thống kê dữ liệu\n",
    "print(movies_ratings.describe())\n",
    "\n",
    "# 4. Parsing Timestamps\n",
    "movies_ratings['timestamp'] = pd.to_datetime(movies_ratings['timestamp'], unit='s')\n",
    "\n",
    "# 5. Trực quan hóa dữ liệu\n",
    "import matplotlib.pyplot as plt\n",
    "movies_ratings['rating'].hist(bins=20)\n",
    "plt.show()"
   ]
  }
 ],
 "metadata": {
  "kernelspec": {
   "display_name": "Python 3",
   "language": "python",
   "name": "python3"
  },
  "language_info": {
   "codemirror_mode": {
    "name": "ipython",
    "version": 3
   },
   "file_extension": ".py",
   "mimetype": "text/x-python",
   "name": "python",
   "nbconvert_exporter": "python",
   "pygments_lexer": "ipython3",
   "version": "3.12.7"
  }
 },
 "nbformat": 4,
 "nbformat_minor": 2
}
