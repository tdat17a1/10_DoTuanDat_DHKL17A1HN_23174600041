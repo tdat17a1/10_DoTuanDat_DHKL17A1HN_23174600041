{
 "cells": [
  {
   "cell_type": "markdown",
   "metadata": {},
   "source": [
    "1. Đọc Dữ Liệu Từ File CSV (10 phút)"
   ]
  },
  {
   "cell_type": "code",
   "execution_count": null,
   "metadata": {},
   "outputs": [],
   "source": [
    "import numpy as np\n",
    "\n",
    "# Đọc dữ liệu từ CSV\n",
    "data = np.genfromtxt('diem_hoc_phan.csv', delimiter=',', dtype=None, encoding='utf-8', names=True)\n",
    "\n",
    "print(data)\n"
   ]
  },
  {
   "cell_type": "markdown",
   "metadata": {},
   "source": [
    "2. Qui đổi từ thang điểm 10 sang điểm tín chỉ (15 phút)"
   ]
  },
  {
   "cell_type": "code",
   "execution_count": null,
   "metadata": {},
   "outputs": [],
   "source": [
    "def convert_to_grade(score):\n",
    "    if 8.5 <= score <= 10:\n",
    "        return 'A'\n",
    "    elif 8.0 <= score < 8.5:\n",
    "        return 'B+'\n",
    "    elif 7.0 <= score < 8.0:\n",
    "        return 'B'\n",
    "    elif 6.5 <= score < 7.0:\n",
    "        return 'C+'\n",
    "    elif 5.5 <= score < 6.5:\n",
    "        return 'C'\n",
    "    elif 5.0 <= score < 5.5:\n",
    "        return 'D+'\n",
    "    elif 4.0 <= score < 5.0:\n",
    "        return 'D'\n",
    "    else:\n",
    "        return 'F'\n",
    "\n",
    "# Áp dụng chuyển đổi cho mỗi học phần\n",
    "grades = np.vectorize(convert_to_grade)(data[['HP 1', 'HP 2', 'HP 3']])\n",
    "print(grades)\n"
   ]
  },
  {
   "cell_type": "markdown",
   "metadata": {},
   "source": [
    "3. Chia tách Dữ Liệu theo học phần (5-10 phút)\n"
   ]
  },
  {
   "cell_type": "code",
   "execution_count": null,
   "metadata": {},
   "outputs": [],
   "source": [
    "# Phân tách điểm theo từng học phần\n",
    "hp1_scores = data['HP 1']\n",
    "hp2_scores = data['HP 2']\n",
    "hp3_scores = data['HP 3']\n",
    "\n",
    "print(f\"HP1 Scores: {hp1_scores}\")\n",
    "print(f\"HP2 Scores: {hp2_scores}\")\n",
    "print(f\"HP3 Scores: {hp3_scores}\")\n"
   ]
  },
  {
   "cell_type": "markdown",
   "metadata": {},
   "source": [
    "4. Phân tích dữ liệu theo từng học phần (10-15 phút)\n"
   ]
  },
  {
   "cell_type": "code",
   "execution_count": null,
   "metadata": {},
   "outputs": [],
   "source": [
    "# Tính toán tổng, trung bình và độ lệch chuẩn\n",
    "hp1_total = np.sum(hp1_scores)\n",
    "hp1_mean = np.mean(hp1_scores)\n",
    "hp1_std = np.std(hp1_scores)\n",
    "\n",
    "hp2_total = np.sum(hp2_scores)\n",
    "hp2_mean = np.mean(hp2_scores)\n",
    "hp2_std = np.std(hp2_scores)\n",
    "\n",
    "hp3_total = np.sum(hp3_scores)\n",
    "hp3_mean = np.mean(hp3_scores)\n",
    "hp3_std = np.std(hp3_scores)\n",
    "\n",
    "print(f\"HP1: Total={hp1_total}, Mean={hp1_mean}, Std Dev={hp1_std}\")\n",
    "print(f\"HP2: Total={hp2_total}, Mean={hp2_mean}, Std Dev={hp2_std}\")\n",
    "print(f\"HP3: Total={hp3_total}, Mean={hp3_mean}, Std Dev={hp3_std}\")\n"
   ]
  },
  {
   "cell_type": "markdown",
   "metadata": {},
   "source": [
    "5. Phân tích điểm tổng hợp (5-10 phút)"
   ]
  },
  {
   "cell_type": "code",
   "execution_count": null,
   "metadata": {},
   "outputs": [],
   "source": [
    "unique, counts = np.unique(grades, return_counts=True)\n",
    "grade_distribution = dict(zip(unique, counts))\n",
    "\n",
    "print(\"Grade distribution:\", grade_distribution)\n"
   ]
  }
 ],
 "metadata": {
  "kernelspec": {
   "display_name": "base",
   "language": "python",
   "name": "python3"
  },
  "language_info": {
   "name": "python",
   "version": "3.12.4"
  }
 },
 "nbformat": 4,
 "nbformat_minor": 2
}
